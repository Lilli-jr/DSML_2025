{
 "cells": [
  {
   "cell_type": "markdown",
   "metadata": {},
   "source": [
    "# `DSML_WS_03` - Introduction to Pandas"
   ]
  },
  {
   "cell_type": "markdown",
   "metadata": {},
   "source": [
    "Please work on the following tasks **before** the third workshop session."
   ]
  },
  {
   "cell_type": "markdown",
   "metadata": {},
   "source": [
    "## 1. Working with student grades in NumPy"
   ]
  },
  {
   "cell_type": "markdown",
   "metadata": {},
   "source": [
    "Last week, you made yourself familiar with NumPy. Let's check your NumPy knowledge using a small case.\n",
    "\n",
    "Imagine you are the teacher of a class of 15 students. During the year, the class has written 3 tests, each with a maximum of 100 points. You want to summarize the students' performances using NumPy.\n",
    "\n",
    "1. Simulate the described case by creating a two-dimensional NumPy array with each row representing a student and each column representing a test. Generate random scores for each student and test between 0 and 100, and assign the array to a variable called `student_scores`.\n",
    "2. Oops! You completely forgot Thomas, who joined the class during the school year after the first test. Thomas' score for the second test was 87, and 93 for the third test.\n",
    "    - Since Thomas does not have a score for the first test, you want to simply use the average score of all other students. Calculate this and assign it to a variable called `avg_first_test`. (Hint: array slicing and the function np.mean() might be helpful here)\n",
    "    - Add Thomas using `avg_first_test` as his first test score and his actual second and third test scores to `student_scores`.\n",
    "3. You want to generate the sum of the scores from all three tests for each student. Do this using a matrix multiplication and save the resulting array to a variable called `student_totals`.\n",
    "4. Finally, you want to transform the total scores in `student_totals` to a percentage of maximum available points. Assign this array to a variable called `student_pct`."
   ]
  },
  {
   "cell_type": "code",
   "execution_count": 18,
   "metadata": {},
   "outputs": [
    {
     "name": "stdout",
     "output_type": "stream",
     "text": [
      "[[95 53 73]\n",
      " [47  8  5]\n",
      " [12  3 46]\n",
      " [62 42 81]]\n",
      "Average score of the first test: 54.0\n",
      "[[95. 53. 73.]\n",
      " [47.  8.  5.]\n",
      " [12.  3. 46.]\n",
      " [62. 42. 81.]\n",
      " [54. 87. 93.]]\n",
      "[221.  60.  61. 185. 234.]\n",
      "[73.66666667 20.         20.33333333 61.66666667 78.        ]\n"
     ]
    }
   ],
   "source": [
    "# your code here\n",
    "import numpy as np\n",
    "num_students = 4\n",
    "num_tests = 3\n",
    "student_scores = np.random.randint(0, 101, (num_students, num_tests))\n",
    "print(student_scores)\n",
    "\n",
    "avg_first_test = np.mean(student_scores[:, 0]) \n",
    "print(\"Average score of the first test:\", avg_first_test)\n",
    "thomas_scores = [avg_first_test, 87,93]\n",
    "student_scores = np.vstack([student_scores, thomas_scores])\n",
    "print(student_scores)\n",
    "\n",
    "students_total = np.sum(student_scores, axis=1)\n",
    "print(students_total)\n",
    "\n",
    "max_score = 3*100\n",
    "student_pct = (students_total / max_score) * 100\n",
    "print(student_pct)"
   ]
  },
  {
   "cell_type": "markdown",
   "metadata": {},
   "source": [
    "## 2. Getting started with Pandas"
   ]
  },
  {
   "cell_type": "markdown",
   "metadata": {},
   "source": [
    "This week, we will be exploring Pandas - a core package for working with data in Python. You can think of Pandas as enhanced versions of NumPy arrays. Let's see why.\n",
    "\n",
    "As always, we first have to import pandas to use its functionalities within this Jupyter notebook. Pandas is commonly abbreviated using pd."
   ]
  },
  {
   "cell_type": "code",
   "execution_count": 19,
   "metadata": {},
   "outputs": [],
   "source": [
    "import pandas as pd"
   ]
  },
  {
   "cell_type": "markdown",
   "metadata": {},
   "source": [
    "The Pandas equivalent to a one-dimensional array is a Series object, which you can create just like arrays, but use pd.Series instead of np.array. Let's stick with the student grade example from Task 1, but focus on only five students: Helena, Tom, Nina, Sam and Kim, who are 15, 15, 16, 17 and 16 years old, and scored 75, 69, 87, 88, and 54 points on the first test. Create three Pandas Series objects called `names`, `ages` and `scores` to store the respective data about our five students. How do Pandas Series objects differ from NumPy arrays?"
   ]
  },
  {
   "cell_type": "code",
   "execution_count": 21,
   "metadata": {},
   "outputs": [
    {
     "name": "stdout",
     "output_type": "stream",
     "text": [
      "0    Helena\n",
      "1       Tom\n",
      "2      Nina\n",
      "3       Sam\n",
      "4       Kim\n",
      "dtype: object\n",
      "0    15\n",
      "1    15\n",
      "2    16\n",
      "3    17\n",
      "4    16\n",
      "dtype: int64\n",
      "0    75\n",
      "1    69\n",
      "2    87\n",
      "3    88\n",
      "4    54\n",
      "dtype: int64\n"
     ]
    }
   ],
   "source": [
    "# your code here\n",
    "names = pd.Series([\"Helena\", \"Tom\", \"Nina\", \"Sam\", \"Kim\"])\n",
    "ages = pd.Series([15,15,16,17,16])\n",
    "scores = pd.Series([75,69,87,88,54])\n",
    "print(names)\n",
    "print(ages)\n",
    "print(scores)"
   ]
  },
  {
   "cell_type": "markdown",
   "metadata": {},
   "source": [
    "At the heart of Pandas are dataframes, the equivalent to two-dimensional arrays. Let's combine our three Series objects into one dataframe using pd.DataFrame({'name_1': series_1, 'name_2': series_2,...}) and assign it to a variable called `students`. How does the dataframe differ from a two-dimensional array?"
   ]
  },
  {
   "cell_type": "code",
   "execution_count": 22,
   "metadata": {},
   "outputs": [
    {
     "name": "stdout",
     "output_type": "stream",
     "text": [
      "     Name  Age  Score\n",
      "0  Helena   15     75\n",
      "1     Tom   15     69\n",
      "2    Nina   16     87\n",
      "3     Sam   17     88\n",
      "4     Kim   16     54\n"
     ]
    }
   ],
   "source": [
    "# your code here\n",
    "students = pd.DataFrame({\"Name\": names, \"Age\": ages, \"Score\": scores})\n",
    "print(students)"
   ]
  },
  {
   "cell_type": "markdown",
   "metadata": {},
   "source": [
    "You can select specific information from your dataframe using the .loc[row_name, column_name] method. Return all rows but only the age column using .loc."
   ]
  },
  {
   "cell_type": "code",
   "execution_count": 24,
   "metadata": {},
   "outputs": [
    {
     "name": "stdout",
     "output_type": "stream",
     "text": [
      "0    15\n",
      "1    15\n",
      "2    16\n",
      "3    17\n",
      "4    16\n",
      "Name: Age, dtype: int64\n"
     ]
    }
   ],
   "source": [
    "# your code here\n",
    "ages_only = students.loc[:, \"Age\"]\n",
    "print(ages_only)    "
   ]
  },
  {
   "cell_type": "markdown",
   "metadata": {},
   "source": [
    "We can also use .loc to filter based on certain conditions. For example, if I want to only return Helena's test score, I could write `students.loc[students.name == 'Helena','score']`. Return all information on students with a score higher than 80."
   ]
  },
  {
   "cell_type": "code",
   "execution_count": 29,
   "metadata": {},
   "outputs": [
    {
     "name": "stdout",
     "output_type": "stream",
     "text": [
      "   Name  Age  Score\n",
      "2  Nina   16     87\n",
      "3   Sam   17     88\n"
     ]
    }
   ],
   "source": [
    "# your code here\n",
    "score_higher = students.loc[students[\"Score\"] > 80, [\"Name\", \"Age\", \"Score\"]]\n",
    "print(score_higher)"
   ]
  }
 ],
 "metadata": {
  "kernelspec": {
   "display_name": "DSML_env",
   "language": "python",
   "name": "python3"
  },
  "language_info": {
   "codemirror_mode": {
    "name": "ipython",
    "version": 3
   },
   "file_extension": ".py",
   "mimetype": "text/x-python",
   "name": "python",
   "nbconvert_exporter": "python",
   "pygments_lexer": "ipython3",
   "version": "3.13.2"
  }
 },
 "nbformat": 4,
 "nbformat_minor": 2
}
