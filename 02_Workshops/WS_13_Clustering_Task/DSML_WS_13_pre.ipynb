{
 "cells": [
  {
   "cell_type": "markdown",
   "metadata": {},
   "source": [
    "# **`DSML_WS_13` - Clustering Task**"
   ]
  },
  {
   "cell_type": "markdown",
   "metadata": {},
   "source": [
    "Please work on the following task **before** the thirteenth workshop session."
   ]
  },
  {
   "cell_type": "markdown",
   "metadata": {},
   "source": [
    "## 1. **Clustering breast cancer samples**"
   ]
  },
  {
   "cell_type": "markdown",
   "metadata": {},
   "source": [
    "In the last workshop, we have illustrated k-means clustering using the iris flower dataset. Put what you have learned into practice by applying it to our known cancer dataset. Would you have chosen the true number of 2 clusters without knowing that there are only two cancer types? Do the following:\n",
    "- load and prepare data (including feature scaling)\n",
    "- run a principal component analysis and generate as many principal components so that at least 95% of the variance in the original data is preserved\n",
    "- run k-means for different values for k using your the principal components as features\n",
    "- select the most suitable k using the elbow method\n",
    "- re-train your model using your selected number for k\n",
    "- generate two scatterplots of the first and second principal components: one showing the true label and one showing your generated clusters"
   ]
  },
  {
   "cell_type": "code",
   "execution_count": 22,
   "metadata": {},
   "outputs": [
    {
     "name": "stdout",
     "output_type": "stream",
     "text": [
      "Original number of features: 30\n",
      "Scaled number of features: (569, 30)\n",
      "Reduced number of features after PCA: 10\n",
      "Shape of PCA transformed data: (569, 10)\n"
     ]
    },
    {
     "name": "stderr",
     "output_type": "stream",
     "text": [
      "c:\\Users\\kilia\\anaconda3\\envs\\DSML_env\\Lib\\site-packages\\sklearn\\cluster\\_kmeans.py:1419: UserWarning: KMeans is known to have a memory leak on Windows with MKL, when there are less chunks than available threads. You can avoid it by setting the environment variable OMP_NUM_THREADS=3.\n",
      "  warnings.warn(\n",
      "c:\\Users\\kilia\\anaconda3\\envs\\DSML_env\\Lib\\site-packages\\sklearn\\cluster\\_kmeans.py:1419: UserWarning: KMeans is known to have a memory leak on Windows with MKL, when there are less chunks than available threads. You can avoid it by setting the environment variable OMP_NUM_THREADS=3.\n",
      "  warnings.warn(\n",
      "c:\\Users\\kilia\\anaconda3\\envs\\DSML_env\\Lib\\site-packages\\sklearn\\cluster\\_kmeans.py:1419: UserWarning: KMeans is known to have a memory leak on Windows with MKL, when there are less chunks than available threads. You can avoid it by setting the environment variable OMP_NUM_THREADS=3.\n",
      "  warnings.warn(\n",
      "c:\\Users\\kilia\\anaconda3\\envs\\DSML_env\\Lib\\site-packages\\sklearn\\cluster\\_kmeans.py:1419: UserWarning: KMeans is known to have a memory leak on Windows with MKL, when there are less chunks than available threads. You can avoid it by setting the environment variable OMP_NUM_THREADS=3.\n",
      "  warnings.warn(\n",
      "c:\\Users\\kilia\\anaconda3\\envs\\DSML_env\\Lib\\site-packages\\sklearn\\cluster\\_kmeans.py:1419: UserWarning: KMeans is known to have a memory leak on Windows with MKL, when there are less chunks than available threads. You can avoid it by setting the environment variable OMP_NUM_THREADS=3.\n",
      "  warnings.warn(\n",
      "c:\\Users\\kilia\\anaconda3\\envs\\DSML_env\\Lib\\site-packages\\sklearn\\cluster\\_kmeans.py:1419: UserWarning: KMeans is known to have a memory leak on Windows with MKL, when there are less chunks than available threads. You can avoid it by setting the environment variable OMP_NUM_THREADS=3.\n",
      "  warnings.warn(\n",
      "c:\\Users\\kilia\\anaconda3\\envs\\DSML_env\\Lib\\site-packages\\sklearn\\cluster\\_kmeans.py:1419: UserWarning: KMeans is known to have a memory leak on Windows with MKL, when there are less chunks than available threads. You can avoid it by setting the environment variable OMP_NUM_THREADS=3.\n",
      "  warnings.warn(\n",
      "c:\\Users\\kilia\\anaconda3\\envs\\DSML_env\\Lib\\site-packages\\sklearn\\cluster\\_kmeans.py:1419: UserWarning: KMeans is known to have a memory leak on Windows with MKL, when there are less chunks than available threads. You can avoid it by setting the environment variable OMP_NUM_THREADS=3.\n",
      "  warnings.warn(\n",
      "c:\\Users\\kilia\\anaconda3\\envs\\DSML_env\\Lib\\site-packages\\sklearn\\cluster\\_kmeans.py:1419: UserWarning: KMeans is known to have a memory leak on Windows with MKL, when there are less chunks than available threads. You can avoid it by setting the environment variable OMP_NUM_THREADS=3.\n",
      "  warnings.warn(\n",
      "c:\\Users\\kilia\\anaconda3\\envs\\DSML_env\\Lib\\site-packages\\sklearn\\cluster\\_kmeans.py:1419: UserWarning: KMeans is known to have a memory leak on Windows with MKL, when there are less chunks than available threads. You can avoid it by setting the environment variable OMP_NUM_THREADS=3.\n",
      "  warnings.warn(\n"
     ]
    },
    {
     "name": "stdout",
     "output_type": "stream",
     "text": [
      "Das Elbow-Methoden-Plot wurde generiert und als 'elbow_method_plot.png' gespeichert.\n",
      "Betrachten Sie dieses Plot, um die optimale Anzahl von Clustern (k) zu identifizieren.\n",
      "K-Means Modell wurde mit 2 Clustern neu trainiert.\n",
      "Die ersten 10 Cluster-Zuordnungen sind: [0 0 0 0 0 0 0 0 0 0]\n",
      "Anzahl der Datenpunkte pro Cluster: 0    188\n",
      "1    381\n",
      "Name: count, dtype: int64\n"
     ]
    },
    {
     "name": "stderr",
     "output_type": "stream",
     "text": [
      "c:\\Users\\kilia\\anaconda3\\envs\\DSML_env\\Lib\\site-packages\\sklearn\\cluster\\_kmeans.py:1419: UserWarning: KMeans is known to have a memory leak on Windows with MKL, when there are less chunks than available threads. You can avoid it by setting the environment variable OMP_NUM_THREADS=3.\n",
      "  warnings.warn(\n"
     ]
    },
    {
     "name": "stdout",
     "output_type": "stream",
     "text": [
      "Zwei Streudiagramme wurden generiert und als 'pca_cluster_comparison.png' gespeichert.\n",
      "Vergleichen Sie die beiden Diagramme, um zu sehen, wie gut die K-Means-Cluster mit den wahren Labels übereinstimmen.\n"
     ]
    }
   ],
   "source": [
    "# your code here\n",
    "import pandas as pd\n",
    "import numpy as np\n",
    "from sklearn.preprocessing import StandardScaler\n",
    "from sklearn.decomposition import PCA\n",
    "from sklearn.cluster import KMeans\n",
    "import matplotlib.pyplot as plt\n",
    "import seaborn as sns\n",
    "\n",
    "data = pd.read_csv('breast_cancer.csv')\n",
    "if 'Unnamed: 32' in data.columns:\n",
    "    data = data.drop(columns=['Unnamed: 32'], axis=1)\n",
    "if 'id' in data.columns:\n",
    "    data = data.drop(columns=['id'], axis=1)\n",
    "\n",
    "X = data.drop(columns=['diagnosis'], axis=1)\n",
    "Y = data['diagnosis']\n",
    "Y = Y.map({'M': 1, 'B': 0})  # Convert 'M' to 1 and 'B' to 0\n",
    "\n",
    "scaler = StandardScaler()\n",
    "X_scaled = scaler.fit_transform(X)\n",
    "print(f\"Original number of features: {X.shape[1]}\")\n",
    "print(f\"Scaled number of features: {X_scaled.shape}\")\n",
    "\n",
    "pca = PCA(n_components=0.95)\n",
    "X_pca = pca.fit_transform(X_scaled)\n",
    "print(f\"Reduced number of features after PCA: {X_pca.shape[1]}\")\n",
    "print(f\"Shape of PCA transformed data: {X_pca.shape}\")\n",
    "\n",
    "\n",
    "wcss = []\n",
    "k_range = range(1, 11)\n",
    "\n",
    "for k in k_range:\n",
    "    kmeans = KMeans(n_clusters=k, random_state=42)\n",
    "    kmeans.fit(X_pca)\n",
    "    wcss.append(kmeans.inertia_)\n",
    "\n",
    "plt.figure(figsize=(10, 6))\n",
    "plt.plot(k_range, wcss, marker='o', linestyle = '--')\n",
    "plt.title('Elbow Method for Optimal k')\n",
    "plt.xlabel('Number of clusters (k)')\n",
    "plt.ylabel('WCSS (Within-Cluster Sum of Squares)')\n",
    "plt.grid(True)\n",
    "plt.savefig('elbow_method.png')\n",
    "plt.close()\n",
    "\n",
    "print(\"Das Elbow-Methoden-Plot wurde generiert und als 'elbow_method_plot.png' gespeichert.\")\n",
    "print(\"Betrachten Sie dieses Plot, um die optimale Anzahl von Clustern (k) zu identifizieren.\")\n",
    "\n",
    "\n",
    "optimal_k = 2\n",
    "kmeans_optimal= KMeans(n_clusters=optimal_k, random_state=42)\n",
    "clusters = kmeans_optimal.fit_predict(X_pca)\n",
    "print(f\"K-Means Modell wurde mit {optimal_k} Clustern neu trainiert.\")\n",
    "print(f\"Die ersten 10 Cluster-Zuordnungen sind: {clusters[:10]}\")\n",
    "print(f\"Anzahl der Datenpunkte pro Cluster: {pd.Series(clusters).value_counts().sort_index()}\")\n",
    "\n",
    "\n",
    "plt.figure(figsize=(10, 6))\n",
    "plt.subplot(1, 2, 1)\n",
    "sns.scatterplot(x=X_pca[:, 0], y=X_pca[:, 1], hue=Y, palette='viridis', legend='full')\n",
    "plt.title('True Labels of Cancer Types (PC1 vs PC2)')\n",
    "plt.xlabel('Principal Component 1')\n",
    "plt.ylabel('Principal Component 2')\n",
    "\n",
    "plt.subplot(1, 2, 2)\n",
    "sns.scatterplot(x=X_pca[:, 0], y=X_pca[:, 1], hue=clusters, palette='viridis', legend='full')\n",
    "plt.title(f'K-Means Clusters (k=2) (PC1 vs PC2)')\n",
    "plt.xlabel('Principal Component 1')\n",
    "plt.ylabel('Principal Component 2')\n",
    "\n",
    "plt.tight_layout() # Passt die Plots an, damit sie sich nicht überlappen\n",
    "plt.savefig('pca_cluster_comparison.png') # Speichert die Plots als Datei\n",
    "plt.close() # Schließt das Plot-Fenster nach dem Speichern\n",
    "\n",
    "print(\"Zwei Streudiagramme wurden generiert und als 'pca_cluster_comparison.png' gespeichert.\")\n",
    "print(\"Vergleichen Sie die beiden Diagramme, um zu sehen, wie gut die K-Means-Cluster mit den wahren Labels übereinstimmen.\")"
   ]
  }
 ],
 "metadata": {
  "kernelspec": {
   "display_name": "DSML_env",
   "language": "python",
   "name": "python3"
  },
  "language_info": {
   "codemirror_mode": {
    "name": "ipython",
    "version": 3
   },
   "file_extension": ".py",
   "mimetype": "text/x-python",
   "name": "python",
   "nbconvert_exporter": "python",
   "pygments_lexer": "ipython3",
   "version": "3.13.2"
  }
 },
 "nbformat": 4,
 "nbformat_minor": 2
}
